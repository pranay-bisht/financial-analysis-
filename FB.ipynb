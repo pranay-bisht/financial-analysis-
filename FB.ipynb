{
 "cells": [
  {
   "cell_type": "code",
   "execution_count": 3,
   "id": "4bd1f698",
   "metadata": {},
   "outputs": [],
   "source": [
    "import pandas as pd\n",
    "import matplotlib.pyplot as plt\n",
    "%matplotlib inline"
   ]
  },
  {
   "cell_type": "code",
   "execution_count": 4,
   "id": "f1174d5b",
   "metadata": {
    "scrolled": true
   },
   "outputs": [],
   "source": [
    "fb=pd.read_csv('/Users/pranaybisht/FB.csv')"
   ]
  },
  {
   "cell_type": "code",
   "execution_count": 5,
   "id": "7774c19b",
   "metadata": {},
   "outputs": [
    {
     "name": "stdout",
     "output_type": "stream",
     "text": [
      "<class 'pandas.core.frame.DataFrame'>\n"
     ]
    }
   ],
   "source": [
    "print(type(fb))"
   ]
  },
  {
   "cell_type": "code",
   "execution_count": 6,
   "id": "bcbf6a2a",
   "metadata": {},
   "outputs": [
    {
     "data": {
      "text/html": [
       "<div>\n",
       "<style scoped>\n",
       "    .dataframe tbody tr th:only-of-type {\n",
       "        vertical-align: middle;\n",
       "    }\n",
       "\n",
       "    .dataframe tbody tr th {\n",
       "        vertical-align: top;\n",
       "    }\n",
       "\n",
       "    .dataframe thead th {\n",
       "        text-align: right;\n",
       "    }\n",
       "</style>\n",
       "<table border=\"1\" class=\"dataframe\">\n",
       "  <thead>\n",
       "    <tr style=\"text-align: right;\">\n",
       "      <th></th>\n",
       "      <th>Date</th>\n",
       "      <th>Open</th>\n",
       "      <th>High</th>\n",
       "      <th>Low</th>\n",
       "      <th>Close</th>\n",
       "      <th>Adj Close</th>\n",
       "      <th>Volume</th>\n",
       "    </tr>\n",
       "  </thead>\n",
       "  <tbody>\n",
       "    <tr>\n",
       "      <th>0</th>\n",
       "      <td>2020-11-16</td>\n",
       "      <td>275.049988</td>\n",
       "      <td>279.410004</td>\n",
       "      <td>274.630005</td>\n",
       "      <td>278.959991</td>\n",
       "      <td>278.959991</td>\n",
       "      <td>12970400</td>\n",
       "    </tr>\n",
       "    <tr>\n",
       "      <th>1</th>\n",
       "      <td>2020-11-17</td>\n",
       "      <td>277.679993</td>\n",
       "      <td>277.679993</td>\n",
       "      <td>273.290009</td>\n",
       "      <td>275.000000</td>\n",
       "      <td>275.000000</td>\n",
       "      <td>15040300</td>\n",
       "    </tr>\n",
       "    <tr>\n",
       "      <th>2</th>\n",
       "      <td>2020-11-18</td>\n",
       "      <td>274.519989</td>\n",
       "      <td>277.390015</td>\n",
       "      <td>271.839996</td>\n",
       "      <td>271.970001</td>\n",
       "      <td>271.970001</td>\n",
       "      <td>12152900</td>\n",
       "    </tr>\n",
       "    <tr>\n",
       "      <th>3</th>\n",
       "      <td>2020-11-19</td>\n",
       "      <td>271.019989</td>\n",
       "      <td>273.470001</td>\n",
       "      <td>269.190002</td>\n",
       "      <td>272.940002</td>\n",
       "      <td>272.940002</td>\n",
       "      <td>12963700</td>\n",
       "    </tr>\n",
       "    <tr>\n",
       "      <th>4</th>\n",
       "      <td>2020-11-20</td>\n",
       "      <td>272.559998</td>\n",
       "      <td>273.000000</td>\n",
       "      <td>269.410004</td>\n",
       "      <td>269.700012</td>\n",
       "      <td>269.700012</td>\n",
       "      <td>18114700</td>\n",
       "    </tr>\n",
       "  </tbody>\n",
       "</table>\n",
       "</div>"
      ],
      "text/plain": [
       "         Date        Open        High         Low       Close   Adj Close  \\\n",
       "0  2020-11-16  275.049988  279.410004  274.630005  278.959991  278.959991   \n",
       "1  2020-11-17  277.679993  277.679993  273.290009  275.000000  275.000000   \n",
       "2  2020-11-18  274.519989  277.390015  271.839996  271.970001  271.970001   \n",
       "3  2020-11-19  271.019989  273.470001  269.190002  272.940002  272.940002   \n",
       "4  2020-11-20  272.559998  273.000000  269.410004  269.700012  269.700012   \n",
       "\n",
       "     Volume  \n",
       "0  12970400  \n",
       "1  15040300  \n",
       "2  12152900  \n",
       "3  12963700  \n",
       "4  18114700  "
      ]
     },
     "execution_count": 6,
     "metadata": {},
     "output_type": "execute_result"
    }
   ],
   "source": [
    "fb.head()"
   ]
  },
  {
   "cell_type": "code",
   "execution_count": 7,
   "id": "755c9769",
   "metadata": {},
   "outputs": [
    {
     "data": {
      "text/html": [
       "<div>\n",
       "<style scoped>\n",
       "    .dataframe tbody tr th:only-of-type {\n",
       "        vertical-align: middle;\n",
       "    }\n",
       "\n",
       "    .dataframe tbody tr th {\n",
       "        vertical-align: top;\n",
       "    }\n",
       "\n",
       "    .dataframe thead th {\n",
       "        text-align: right;\n",
       "    }\n",
       "</style>\n",
       "<table border=\"1\" class=\"dataframe\">\n",
       "  <thead>\n",
       "    <tr style=\"text-align: right;\">\n",
       "      <th></th>\n",
       "      <th>Date</th>\n",
       "      <th>Open</th>\n",
       "      <th>High</th>\n",
       "      <th>Low</th>\n",
       "      <th>Close</th>\n",
       "      <th>Adj Close</th>\n",
       "      <th>Volume</th>\n",
       "    </tr>\n",
       "  </thead>\n",
       "  <tbody>\n",
       "    <tr>\n",
       "      <th>247</th>\n",
       "      <td>2021-11-09</td>\n",
       "      <td>340.000000</td>\n",
       "      <td>341.309998</td>\n",
       "      <td>334.470001</td>\n",
       "      <td>335.369995</td>\n",
       "      <td>335.369995</td>\n",
       "      <td>17556700</td>\n",
       "    </tr>\n",
       "    <tr>\n",
       "      <th>248</th>\n",
       "      <td>2021-11-10</td>\n",
       "      <td>332.489990</td>\n",
       "      <td>333.190002</td>\n",
       "      <td>325.510010</td>\n",
       "      <td>327.640015</td>\n",
       "      <td>327.640015</td>\n",
       "      <td>21872600</td>\n",
       "    </tr>\n",
       "    <tr>\n",
       "      <th>249</th>\n",
       "      <td>2021-11-11</td>\n",
       "      <td>329.820007</td>\n",
       "      <td>332.459991</td>\n",
       "      <td>327.000000</td>\n",
       "      <td>327.739990</td>\n",
       "      <td>327.739990</td>\n",
       "      <td>12376600</td>\n",
       "    </tr>\n",
       "    <tr>\n",
       "      <th>250</th>\n",
       "      <td>2021-11-12</td>\n",
       "      <td>330.179993</td>\n",
       "      <td>341.859985</td>\n",
       "      <td>329.779999</td>\n",
       "      <td>340.890015</td>\n",
       "      <td>340.890015</td>\n",
       "      <td>25387200</td>\n",
       "    </tr>\n",
       "    <tr>\n",
       "      <th>251</th>\n",
       "      <td>2021-11-15</td>\n",
       "      <td>344.339996</td>\n",
       "      <td>353.649994</td>\n",
       "      <td>343.200012</td>\n",
       "      <td>347.559998</td>\n",
       "      <td>347.559998</td>\n",
       "      <td>25059000</td>\n",
       "    </tr>\n",
       "  </tbody>\n",
       "</table>\n",
       "</div>"
      ],
      "text/plain": [
       "           Date        Open        High         Low       Close   Adj Close  \\\n",
       "247  2021-11-09  340.000000  341.309998  334.470001  335.369995  335.369995   \n",
       "248  2021-11-10  332.489990  333.190002  325.510010  327.640015  327.640015   \n",
       "249  2021-11-11  329.820007  332.459991  327.000000  327.739990  327.739990   \n",
       "250  2021-11-12  330.179993  341.859985  329.779999  340.890015  340.890015   \n",
       "251  2021-11-15  344.339996  353.649994  343.200012  347.559998  347.559998   \n",
       "\n",
       "       Volume  \n",
       "247  17556700  \n",
       "248  21872600  \n",
       "249  12376600  \n",
       "250  25387200  \n",
       "251  25059000  "
      ]
     },
     "execution_count": 7,
     "metadata": {},
     "output_type": "execute_result"
    }
   ],
   "source": [
    "fb.tail()"
   ]
  },
  {
   "cell_type": "code",
   "execution_count": 8,
   "id": "8837a547",
   "metadata": {},
   "outputs": [
    {
     "data": {
      "text/plain": [
       "(252, 7)"
      ]
     },
     "execution_count": 8,
     "metadata": {},
     "output_type": "execute_result"
    }
   ],
   "source": [
    "fb.shape"
   ]
  },
  {
   "cell_type": "code",
   "execution_count": 9,
   "id": "46dd18ee",
   "metadata": {},
   "outputs": [
    {
     "data": {
      "text/html": [
       "<div>\n",
       "<style scoped>\n",
       "    .dataframe tbody tr th:only-of-type {\n",
       "        vertical-align: middle;\n",
       "    }\n",
       "\n",
       "    .dataframe tbody tr th {\n",
       "        vertical-align: top;\n",
       "    }\n",
       "\n",
       "    .dataframe thead th {\n",
       "        text-align: right;\n",
       "    }\n",
       "</style>\n",
       "<table border=\"1\" class=\"dataframe\">\n",
       "  <thead>\n",
       "    <tr style=\"text-align: right;\">\n",
       "      <th></th>\n",
       "      <th>Open</th>\n",
       "      <th>High</th>\n",
       "      <th>Low</th>\n",
       "      <th>Close</th>\n",
       "      <th>Adj Close</th>\n",
       "      <th>Volume</th>\n",
       "    </tr>\n",
       "  </thead>\n",
       "  <tbody>\n",
       "    <tr>\n",
       "      <th>count</th>\n",
       "      <td>252.000000</td>\n",
       "      <td>252.000000</td>\n",
       "      <td>252.000000</td>\n",
       "      <td>252.000000</td>\n",
       "      <td>252.000000</td>\n",
       "      <td>2.520000e+02</td>\n",
       "    </tr>\n",
       "    <tr>\n",
       "      <th>mean</th>\n",
       "      <td>313.750675</td>\n",
       "      <td>317.463134</td>\n",
       "      <td>310.182936</td>\n",
       "      <td>313.891270</td>\n",
       "      <td>313.891270</td>\n",
       "      <td>1.839656e+07</td>\n",
       "    </tr>\n",
       "    <tr>\n",
       "      <th>std</th>\n",
       "      <td>37.174525</td>\n",
       "      <td>37.015369</td>\n",
       "      <td>37.255163</td>\n",
       "      <td>37.346053</td>\n",
       "      <td>37.346053</td>\n",
       "      <td>8.238771e+06</td>\n",
       "    </tr>\n",
       "    <tr>\n",
       "      <th>min</th>\n",
       "      <td>247.899994</td>\n",
       "      <td>253.860001</td>\n",
       "      <td>244.610001</td>\n",
       "      <td>245.639999</td>\n",
       "      <td>245.639999</td>\n",
       "      <td>6.702000e+06</td>\n",
       "    </tr>\n",
       "    <tr>\n",
       "      <th>25%</th>\n",
       "      <td>275.754990</td>\n",
       "      <td>278.372498</td>\n",
       "      <td>271.739998</td>\n",
       "      <td>275.650009</td>\n",
       "      <td>275.650009</td>\n",
       "      <td>1.302440e+07</td>\n",
       "    </tr>\n",
       "    <tr>\n",
       "      <th>50%</th>\n",
       "      <td>318.750000</td>\n",
       "      <td>322.565002</td>\n",
       "      <td>313.879989</td>\n",
       "      <td>318.484985</td>\n",
       "      <td>318.484985</td>\n",
       "      <td>1.636490e+07</td>\n",
       "    </tr>\n",
       "    <tr>\n",
       "      <th>75%</th>\n",
       "      <td>343.292495</td>\n",
       "      <td>346.587494</td>\n",
       "      <td>340.160011</td>\n",
       "      <td>343.052506</td>\n",
       "      <td>343.052506</td>\n",
       "      <td>2.174068e+07</td>\n",
       "    </tr>\n",
       "    <tr>\n",
       "      <th>max</th>\n",
       "      <td>381.679993</td>\n",
       "      <td>384.329987</td>\n",
       "      <td>378.809998</td>\n",
       "      <td>382.179993</td>\n",
       "      <td>382.179993</td>\n",
       "      <td>6.565400e+07</td>\n",
       "    </tr>\n",
       "  </tbody>\n",
       "</table>\n",
       "</div>"
      ],
      "text/plain": [
       "             Open        High         Low       Close   Adj Close  \\\n",
       "count  252.000000  252.000000  252.000000  252.000000  252.000000   \n",
       "mean   313.750675  317.463134  310.182936  313.891270  313.891270   \n",
       "std     37.174525   37.015369   37.255163   37.346053   37.346053   \n",
       "min    247.899994  253.860001  244.610001  245.639999  245.639999   \n",
       "25%    275.754990  278.372498  271.739998  275.650009  275.650009   \n",
       "50%    318.750000  322.565002  313.879989  318.484985  318.484985   \n",
       "75%    343.292495  346.587494  340.160011  343.052506  343.052506   \n",
       "max    381.679993  384.329987  378.809998  382.179993  382.179993   \n",
       "\n",
       "             Volume  \n",
       "count  2.520000e+02  \n",
       "mean   1.839656e+07  \n",
       "std    8.238771e+06  \n",
       "min    6.702000e+06  \n",
       "25%    1.302440e+07  \n",
       "50%    1.636490e+07  \n",
       "75%    2.174068e+07  \n",
       "max    6.565400e+07  "
      ]
     },
     "execution_count": 9,
     "metadata": {},
     "output_type": "execute_result"
    }
   ],
   "source": [
    "fb.describe()"
   ]
  },
  {
   "cell_type": "code",
   "execution_count": 10,
   "id": "c3582e3f",
   "metadata": {},
   "outputs": [
    {
     "data": {
      "text/plain": [
       "347.559998"
      ]
     },
     "execution_count": 10,
     "metadata": {},
     "output_type": "execute_result"
    }
   ],
   "source": [
    "fb.iloc[251,4] #closing price on 2021-11-15"
   ]
  },
  {
   "cell_type": "code",
   "execution_count": 11,
   "id": "b316c120",
   "metadata": {},
   "outputs": [
    {
     "name": "stdout",
     "output_type": "stream",
     "text": [
      "Date         2021-11-15\n",
      "Open         344.339996\n",
      "High         353.649994\n",
      "Low          343.200012\n",
      "Close        347.559998\n",
      "Adj Close    347.559998\n",
      "Volume         25059000\n",
      "Name: 251, dtype: object\n"
     ]
    }
   ],
   "source": [
    "print(fb.iloc[251])   # print the price of Facebook on 2021-11-15"
   ]
  },
  {
   "cell_type": "code",
   "execution_count": 12,
   "id": "236500dd",
   "metadata": {},
   "outputs": [],
   "source": [
    "fb_2020 = fb.loc['2020-01-01':'2020-12-31']"
   ]
  },
  {
   "cell_type": "code",
   "execution_count": 13,
   "id": "43dd4da9",
   "metadata": {},
   "outputs": [
    {
     "data": {
      "text/plain": [
       "<AxesSubplot:>"
      ]
     },
     "execution_count": 13,
     "metadata": {},
     "output_type": "execute_result"
    },
    {
     "data": {
      "image/png": "[encoded data removed]",
      "text/plain": [
       "<Figure size 432x288 with 1 Axes>"
      ]
     },
     "metadata": {
      "needs_background": "light"
     },
     "output_type": "display_data"
    }
   ],
   "source": [
    "fb.iloc[0:251,4].plot()"
   ]
  },
  {
   "cell_type": "code",
   "execution_count": 14,
   "id": "545ee533",
   "metadata": {},
   "outputs": [],
   "source": [
    "fb['Price1']=fb.iloc[0:251,4].shift(-1) \n",
    "fb['Net profit']=fb.iloc[0:251,7]-fb.iloc[0:251,4]\n",
    "fb['Direction']=[1 if fb.iloc[ei,8]>0 else -1 for ei in fb.index]\n",
    "fb['MA10']=fb['Close'].rolling(10).mean()\n",
    "fb['MA50']=fb['Close'].rolling(50).mean()\n",
    "\n"
   ]
  },
  {
   "cell_type": "code",
   "execution_count": 15,
   "id": "dfa52af5",
   "metadata": {},
   "outputs": [
    {
     "data": {
      "text/html": [
       "<div>\n",
       "<style scoped>\n",
       "    .dataframe tbody tr th:only-of-type {\n",
       "        vertical-align: middle;\n",
       "    }\n",
       "\n",
       "    .dataframe tbody tr th {\n",
       "        vertical-align: top;\n",
       "    }\n",
       "\n",
       "    .dataframe thead th {\n",
       "        text-align: right;\n",
       "    }\n",
       "</style>\n",
       "<table border=\"1\" class=\"dataframe\">\n",
       "  <thead>\n",
       "    <tr style=\"text-align: right;\">\n",
       "      <th></th>\n",
       "      <th>Date</th>\n",
       "      <th>Open</th>\n",
       "      <th>High</th>\n",
       "      <th>Low</th>\n",
       "      <th>Close</th>\n",
       "      <th>Adj Close</th>\n",
       "      <th>Volume</th>\n",
       "      <th>Price1</th>\n",
       "      <th>Net profit</th>\n",
       "      <th>Direction</th>\n",
       "      <th>MA10</th>\n",
       "      <th>MA50</th>\n",
       "    </tr>\n",
       "  </thead>\n",
       "  <tbody>\n",
       "    <tr>\n",
       "      <th>0</th>\n",
       "      <td>2020-11-16</td>\n",
       "      <td>275.049988</td>\n",
       "      <td>279.410004</td>\n",
       "      <td>274.630005</td>\n",
       "      <td>278.959991</td>\n",
       "      <td>278.959991</td>\n",
       "      <td>12970400</td>\n",
       "      <td>275.000000</td>\n",
       "      <td>-3.959991</td>\n",
       "      <td>-1</td>\n",
       "      <td>NaN</td>\n",
       "      <td>NaN</td>\n",
       "    </tr>\n",
       "    <tr>\n",
       "      <th>1</th>\n",
       "      <td>2020-11-17</td>\n",
       "      <td>277.679993</td>\n",
       "      <td>277.679993</td>\n",
       "      <td>273.290009</td>\n",
       "      <td>275.000000</td>\n",
       "      <td>275.000000</td>\n",
       "      <td>15040300</td>\n",
       "      <td>271.970001</td>\n",
       "      <td>-3.029999</td>\n",
       "      <td>-1</td>\n",
       "      <td>NaN</td>\n",
       "      <td>NaN</td>\n",
       "    </tr>\n",
       "    <tr>\n",
       "      <th>2</th>\n",
       "      <td>2020-11-18</td>\n",
       "      <td>274.519989</td>\n",
       "      <td>277.390015</td>\n",
       "      <td>271.839996</td>\n",
       "      <td>271.970001</td>\n",
       "      <td>271.970001</td>\n",
       "      <td>12152900</td>\n",
       "      <td>272.940002</td>\n",
       "      <td>0.970001</td>\n",
       "      <td>1</td>\n",
       "      <td>NaN</td>\n",
       "      <td>NaN</td>\n",
       "    </tr>\n",
       "    <tr>\n",
       "      <th>3</th>\n",
       "      <td>2020-11-19</td>\n",
       "      <td>271.019989</td>\n",
       "      <td>273.470001</td>\n",
       "      <td>269.190002</td>\n",
       "      <td>272.940002</td>\n",
       "      <td>272.940002</td>\n",
       "      <td>12963700</td>\n",
       "      <td>269.700012</td>\n",
       "      <td>-3.239990</td>\n",
       "      <td>-1</td>\n",
       "      <td>NaN</td>\n",
       "      <td>NaN</td>\n",
       "    </tr>\n",
       "    <tr>\n",
       "      <th>4</th>\n",
       "      <td>2020-11-20</td>\n",
       "      <td>272.559998</td>\n",
       "      <td>273.000000</td>\n",
       "      <td>269.410004</td>\n",
       "      <td>269.700012</td>\n",
       "      <td>269.700012</td>\n",
       "      <td>18114700</td>\n",
       "      <td>268.429993</td>\n",
       "      <td>-1.270019</td>\n",
       "      <td>-1</td>\n",
       "      <td>NaN</td>\n",
       "      <td>NaN</td>\n",
       "    </tr>\n",
       "  </tbody>\n",
       "</table>\n",
       "</div>"
      ],
      "text/plain": [
       "         Date        Open        High         Low       Close   Adj Close  \\\n",
       "0  2020-11-16  275.049988  279.410004  274.630005  278.959991  278.959991   \n",
       "1  2020-11-17  277.679993  277.679993  273.290009  275.000000  275.000000   \n",
       "2  2020-11-18  274.519989  277.390015  271.839996  271.970001  271.970001   \n",
       "3  2020-11-19  271.019989  273.470001  269.190002  272.940002  272.940002   \n",
       "4  2020-11-20  272.559998  273.000000  269.410004  269.700012  269.700012   \n",
       "\n",
       "     Volume      Price1  Net profit  Direction  MA10  MA50  \n",
       "0  12970400  275.000000   -3.959991         -1   NaN   NaN  \n",
       "1  15040300  271.970001   -3.029999         -1   NaN   NaN  \n",
       "2  12152900  272.940002    0.970001          1   NaN   NaN  \n",
       "3  12963700  269.700012   -3.239990         -1   NaN   NaN  \n",
       "4  18114700  268.429993   -1.270019         -1   NaN   NaN  "
      ]
     },
     "execution_count": 15,
     "metadata": {},
     "output_type": "execute_result"
    }
   ],
   "source": [
    "fb.head()"
   ]
  },
  {
   "cell_type": "code",
   "execution_count": 16,
   "id": "50311490",
   "metadata": {},
   "outputs": [
    {
     "data": {
      "text/plain": [
       "<AxesSubplot:>"
      ]
     },
     "execution_count": 16,
     "metadata": {},
     "output_type": "execute_result"
    },
    {
     "data": {
      "image/png": "[encoded data removed]",
      "text/plain": [
       "<Figure size 432x288 with 1 Axes>"
      ]
     },
     "metadata": {
      "needs_background": "light"
     },
     "output_type": "display_data"
    }
   ],
   "source": [
    "fb['Close'].plot()\n",
    "fb['MA10'].plot()\n",
    "fb['MA50'].plot()"
   ]
  },
  {
   "cell_type": "code",
   "execution_count": null,
   "id": "dc9b9f8b",
   "metadata": {},
   "outputs": [],
   "source": []
  }
 ],
 "metadata": {
  "kernelspec": {
   "display_name": "Python 3",
   "language": "python",
   "name": "python3"
  },
  "language_info": {
   "codemirror_mode": {
    "name": "ipython",
    "version": 3
   },
   "file_extension": ".py",
   "mimetype": "text/x-python",
   "name": "python",
   "nbconvert_exporter": "python",
   "pygments_lexer": "ipython3",
   "version": "3.8.8"
  }
 },
 "nbformat": 4,
 "nbformat_minor": 5
}
